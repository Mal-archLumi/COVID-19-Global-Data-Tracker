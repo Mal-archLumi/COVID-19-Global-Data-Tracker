{
 "cells": [
  {
   "cell_type": "markdown",
   "id": "09eba056",
   "metadata": {},
   "source": [
    "## Step 3: Data Loading & Exploration\n",
    "In this step, we'll load the COVID-19 dataset, check its structure, and explore the columns and rows.\n"
   ]
  },
  {
   "cell_type": "code",
   "execution_count": 5,
   "id": "6a64551c",
   "metadata": {},
   "outputs": [
    {
     "ename": "ModuleNotFoundError",
     "evalue": "No module named 'pandas'",
     "output_type": "error",
     "traceback": [
      "\u001b[31m---------------------------------------------------------------------------\u001b[39m",
      "\u001b[31mModuleNotFoundError\u001b[39m                       Traceback (most recent call last)",
      "\u001b[36mCell\u001b[39m\u001b[36m \u001b[39m\u001b[32mIn[5]\u001b[39m\u001b[32m, line 1\u001b[39m\n\u001b[32m----> \u001b[39m\u001b[32m1\u001b[39m \u001b[38;5;28;01mimport\u001b[39;00m\u001b[38;5;250m \u001b[39m\u001b[34;01mpandas\u001b[39;00m\u001b[38;5;250m \u001b[39m\u001b[38;5;28;01mas\u001b[39;00m\u001b[38;5;250m \u001b[39m\u001b[34;01mpd\u001b[39;00m\n\u001b[32m      2\u001b[39m \u001b[38;5;28;01mimport\u001b[39;00m\u001b[38;5;250m \u001b[39m\u001b[34;01mmatplotlib\u001b[39;00m\u001b[34;01m.\u001b[39;00m\u001b[34;01mpyplot\u001b[39;00m\u001b[38;5;250m \u001b[39m\u001b[38;5;28;01mas\u001b[39;00m\u001b[38;5;250m \u001b[39m\u001b[34;01mplt\u001b[39;00m\n\u001b[32m      3\u001b[39m \u001b[38;5;28;01mimport\u001b[39;00m\u001b[38;5;250m \u001b[39m\u001b[34;01mseaborn\u001b[39;00m\u001b[38;5;250m \u001b[39m\u001b[38;5;28;01mas\u001b[39;00m\u001b[38;5;250m \u001b[39m\u001b[34;01msns\u001b[39;00m\n",
      "\u001b[31mModuleNotFoundError\u001b[39m: No module named 'pandas'"
     ]
    }
   ],
   "source": [
    "import pandas as pd\n",
    "import matplotlib.pyplot as plt\n",
    "import seaborn as sns\n",
    "import plotly.express as px\n"
   ]
  },
  {
   "cell_type": "code",
   "execution_count": null,
   "id": "257585b6",
   "metadata": {},
   "outputs": [],
   "source": [
    "# Load the dataset into a pandas DataFrame\n",
    "df = pd.read_csv('owid-covid-data.csv')\n",
    "\n",
    "# Preview the first few rows\n",
    "df.head()\n"
   ]
  },
  {
   "cell_type": "code",
   "execution_count": null,
   "id": "ef14ce81",
   "metadata": {},
   "outputs": [],
   "source": [
    "# Check the column names\n",
    "df.columns\n"
   ]
  },
  {
   "cell_type": "code",
   "execution_count": null,
   "id": "e458e955",
   "metadata": {},
   "outputs": [],
   "source": [
    "# Check for missing values\n",
    "df.isnull().sum()\n"
   ]
  },
  {
   "cell_type": "code",
   "execution_count": null,
   "id": "41b9782f",
   "metadata": {},
   "outputs": [],
   "source": [
    "# Filter data for a specific country (e.g., USA)\n",
    "df_usa = df[df['location'] == 'USA']\n",
    "df_usa.head()\n"
   ]
  },
  {
   "cell_type": "markdown",
   "id": "b2d96668",
   "metadata": {},
   "source": [
    "## Step 4: Data Cleaning\n",
    "In this step, we clean the dataset by filtering for countries of interest, handling missing values, and ensuring the date column is in datetime format.\n"
   ]
  },
  {
   "cell_type": "code",
   "execution_count": null,
   "id": "f9bbecc0",
   "metadata": {},
   "outputs": [],
   "source": [
    "countries_of_interest = ['Kenya', 'USA', 'India']\n",
    "df_filtered = df[df['location'].isin(countries_of_interest)]\n"
   ]
  },
  {
   "cell_type": "code",
   "execution_count": null,
   "id": "9723aedd",
   "metadata": {},
   "outputs": [],
   "source": [
    "df_filtered['date'] = pd.to_datetime(df_filtered['date'])\n"
   ]
  },
  {
   "cell_type": "code",
   "execution_count": null,
   "id": "a646026a",
   "metadata": {},
   "outputs": [],
   "source": [
    "df_filtered.dropna(subset=['total_cases', 'total_deaths'], inplace=True)\n"
   ]
  },
  {
   "cell_type": "markdown",
   "id": "76944a82",
   "metadata": {},
   "source": [
    "## Step 5: Exploratory Data Analysis (EDA)\n",
    "In this step, we will perform exploratory data analysis to uncover trends and patterns in the data.\n"
   ]
  },
  {
   "cell_type": "code",
   "execution_count": null,
   "id": "b6094ce4",
   "metadata": {},
   "outputs": [],
   "source": [
    "plt.figure(figsize=(10, 6))\n",
    "for country in countries_of_interest:\n",
    "    country_data = df_filtered[df_filtered['location'] == country]\n",
    "    plt.plot(country_data['date'], country_data['total_cases'], label=country)\n",
    "\n",
    "plt.title(\"Total COVID-19 Cases Over Time\")\n",
    "plt.xlabel(\"Date\")\n",
    "plt.ylabel(\"Total Cases\")\n",
    "plt.legend()\n",
    "plt.show()\n"
   ]
  },
  {
   "cell_type": "code",
   "execution_count": null,
   "id": "9a2919f0",
   "metadata": {},
   "outputs": [],
   "source": [
    "plt.figure(figsize=(10, 6))\n",
    "for country in countries_of_interest:\n",
    "    country_data = df_filtered[df_filtered['location'] == country]\n",
    "    plt.plot(country_data['date'], country_data['total_deaths'], label=country)\n",
    "\n",
    "plt.title(\"Total COVID-19 Deaths Over Time\")\n",
    "plt.xlabel(\"Date\")\n",
    "plt.ylabel(\"Total Deaths\")\n",
    "plt.legend()\n",
    "plt.show()\n"
   ]
  },
  {
   "cell_type": "code",
   "execution_count": null,
   "id": "18495c27",
   "metadata": {},
   "outputs": [],
   "source": [
    "plt.figure(figsize=(10, 6))\n",
    "for country in countries_of_interest:\n",
    "    country_data = df_filtered[df_filtered['location'] == country]\n",
    "    country_data['new_cases'] = country_data['total_cases'].diff()\n",
    "    plt.plot(country_data['date'], country_data['new_cases'], label=country)\n",
    "\n",
    "plt.title(\"Daily New COVID-19 Cases Over Time\")\n",
    "plt.xlabel(\"Date\")\n",
    "plt.ylabel(\"New Cases\")\n",
    "plt.legend()\n",
    "plt.show()\n"
   ]
  },
  {
   "cell_type": "code",
   "execution_count": null,
   "id": "8760d3e1",
   "metadata": {},
   "outputs": [],
   "source": [
    "df_filtered['death_rate'] = df_filtered['total_deaths'] / df_filtered['total_cases'] * 100\n",
    "plt.figure(figsize=(10, 6))\n",
    "for country in countries_of_interest:\n",
    "    country_data = df_filtered[df_filtered['location'] == country]\n",
    "    plt.plot(country_data['date'], country_data['death_rate'], label=country)\n",
    "\n",
    "plt.title(\"Death Rate Over Time\")\n",
    "plt.xlabel(\"Date\")\n",
    "plt.ylabel(\"Death Rate (%)\")\n",
    "plt.legend()\n",
    "plt.show()\n"
   ]
  },
  {
   "cell_type": "markdown",
   "id": "76ab64f4",
   "metadata": {},
   "source": [
    "## Step 6: Visualizing Vaccination Progress\n",
    "In this step, we will analyze the vaccination rollout over time for the selected countries.\n"
   ]
  },
  {
   "cell_type": "code",
   "execution_count": null,
   "id": "ea9ad246",
   "metadata": {},
   "outputs": [],
   "source": [
    "plt.figure(figsize=(10, 6))\n",
    "for country in countries_of_interest:\n",
    "    country_data = df_filtered[df_filtered['location'] == country]\n",
    "    plt.plot(country_data['date'], country_data['total_vaccinations'], label=country)\n",
    "\n",
    "plt.title(\"Cumulative Vaccinations Over Time\")\n",
    "plt.xlabel(\"Date\")\n",
    "plt.ylabel(\"Cumulative Vaccinations\")\n",
    "plt.legend()\n",
    "plt.show()\n"
   ]
  },
  {
   "cell_type": "code",
   "execution_count": null,
   "id": "cef69500",
   "metadata": {},
   "outputs": [],
   "source": [
    "df_filtered['vaccination_percentage'] = df_filtered['total_vaccinations'] / df_filtered['population'] * 100\n",
    "plt.figure(figsize=(10, 6))\n",
    "for country in countries_of_interest:\n",
    "    country_data = df_filtered[df_filtered['location'] == country]\n",
    "    plt.plot(country_data['date'], country_data['vaccination_percentage'], label=country)\n",
    "\n",
    "plt.title(\"Vaccination Progress by Country\")\n",
    "plt.xlabel(\"Date\")\n",
    "plt.ylabel(\"Vaccinated (%)\")\n",
    "plt.legend()\n",
    "plt.show()\n"
   ]
  },
  {
   "cell_type": "markdown",
   "id": "532768e7",
   "metadata": {},
   "source": [
    "## Step 7: Optional - Choropleth Map\n",
    "In this optional step, we will create a choropleth map to visualize COVID-19 cases by country.\n"
   ]
  },
  {
   "cell_type": "code",
   "execution_count": null,
   "id": "b80a0430",
   "metadata": {},
   "outputs": [],
   "source": [
    "latest_data = df_filtered[df_filtered['date'] == df_filtered['date'].max()]\n",
    "fig = px.choropleth(latest_data, locations=\"iso_code\", color=\"total_cases\", hover_name=\"location\", color_continuous_scale=\"Viridis\")\n",
    "fig.update_layout(title=\"COVID-19 Cases by Country\")\n",
    "fig.show()\n"
   ]
  }
 ],
 "metadata": {
  "kernelspec": {
   "display_name": ".venv",
   "language": "python",
   "name": "python3"
  },
  "language_info": {
   "codemirror_mode": {
    "name": "ipython",
    "version": 3
   },
   "file_extension": ".py",
   "mimetype": "text/x-python",
   "name": "python",
   "nbconvert_exporter": "python",
   "pygments_lexer": "ipython3",
   "version": "3.13.1"
  }
 },
 "nbformat": 4,
 "nbformat_minor": 5
}
